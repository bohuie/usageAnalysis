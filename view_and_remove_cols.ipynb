{
 "cells": [
  {
   "cell_type": "code",
   "execution_count": null,
   "id": "48195fd2",
   "metadata": {},
   "outputs": [],
   "source": [
    "import pandas as pd"
   ]
  },
  {
   "cell_type": "code",
   "execution_count": null,
   "id": "6c102af9",
   "metadata": {},
   "outputs": [],
   "source": [
    "#load csv files\n",
    "Jan23Act = pd.read_csv('data/Jan2023-actions.csv')\n",
    "May23Act = pd.read_csv('data/May2023-actions.csv')\n",
    "Sep23Act = pd.read_csv('data/Sep2023-actions.csv')"
   ]
  },
  {
   "cell_type": "code",
   "execution_count": null,
   "id": "b866f495",
   "metadata": {},
   "outputs": [],
   "source": [
    "#preview number of rows in files\n",
    "Jan23Act.head()\n",
    "May23Act.head()\n",
    "Sep23Act.head()"
   ]
  },
  {
   "cell_type": "code",
   "execution_count": null,
   "id": "2e7af73e",
   "metadata": {},
   "outputs": [],
   "source": [
    "#list down header of all columns in files\n",
    "for column_headers in Jan23Act.columns:\n",
    "    print(column_headers)\n",
    "\n",
    "for column_headers in May23Act.columns:\n",
    "    print(column_headers)\n",
    "\n",
    "for column_headers in Sep23Act.columns:\n",
    "    print(column_headers)"
   ]
  },
  {
   "cell_type": "code",
   "execution_count": null,
   "id": "2ae4c096",
   "metadata": {},
   "outputs": [],
   "source": [
    "#code to remove all empty columns (might not need to use since all the columns turn out to be semi-filled)\n",
    "Jan23_cleaned = Jan23Act.dropna(axis='columns', how='all')\n",
    "Jan23_cleaned.to_csv('empty-columns-removed.csv', index=False)\n",
    "\n",
    "#view info: number of columns in cleaned file\n",
    "Jan23_cleaned.head()\n",
    "\n",
    "May23_cleaned = May23Act.dropna(axis='columns', how='all')\n",
    "May23_cleaned.to_csv('empty-columns-removed.csv', index=False)\n",
    "May23_cleaned.head()\n",
    "\n",
    "Sep23_cleaned = Sep23Act.dropna(axis='columns', how='all')\n",
    "Sep23_cleaned.to_csv('empty-columns-removed.csv', index=False)\n",
    "Sep23_cleaned.head()"
   ]
  }
 ],
 "metadata": {
  "kernelspec": {
   "display_name": "Python 3 (ipykernel)",
   "language": "python",
   "name": "python3"
  },
  "language_info": {
   "codemirror_mode": {
    "name": "ipython",
    "version": 3
   },
   "file_extension": ".py",
   "mimetype": "text/x-python",
   "name": "python",
   "nbconvert_exporter": "python",
   "pygments_lexer": "ipython3",
   "version": "3.11.5"
  }
 },
 "nbformat": 4,
 "nbformat_minor": 5
}
