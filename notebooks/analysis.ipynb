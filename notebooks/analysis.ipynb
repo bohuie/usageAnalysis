{
 "cells": [
  {
   "cell_type": "code",
   "execution_count": null,
   "id": "fb802c8f-fa8e-4993-869b-22a8ecc8ed71",
   "metadata": {},
   "outputs": [],
   "source": [
    "import os\n",
    "from dotenv import load_dotenv\n",
    "import pandas as pd\n",
    "import json\n",
    "from ast import literal_eval\n",
    "from pathlib import Path\n",
    "\n",
    "load_dotenv()"
   ]
  },
  {
   "cell_type": "code",
   "execution_count": null,
   "id": "181c0acb-ad72-4ff2-8400-99e8949c7ed9",
   "metadata": {
    "scrolled": true
   },
   "outputs": [],
   "source": [
    "csv_filepaths = literal_eval(os.environ.get(\"DATA_ANALYSIS_CSV_FILEPATHS\"))\n",
    "csv_dfs = {}\n",
    "for filepath in csv_filepaths:\n",
    "    csv_dfs[Path(filepath).stem] = pd.read_csv(filepath)\n",
    "\n",
    "questions_file = open(os.environ.get(\"QUESTIONS_JSON_FILEPATH\"))\n",
    "questions_json = json.load(questions_file)\n",
    "questions_df = pd.json_normalize(questions_json['questions'])"
   ]
  },
  {
   "cell_type": "code",
   "execution_count": null,
   "id": "5bb6268f-ee41-4bb4-9aba-f0879669b6e1",
   "metadata": {},
   "outputs": [],
   "source": [
    "# Number of questions\n",
    "len(questions_df)"
   ]
  },
  {
   "cell_type": "code",
   "execution_count": null,
   "id": "f86c901d-424e-4835-a959-73f98fdd89e3",
   "metadata": {},
   "outputs": [],
   "source": [
    "# Number of questions per question type\n",
    "questions_df.groupby(['type_name']).size()"
   ]
  },
  {
   "cell_type": "code",
   "execution_count": null,
   "id": "785845f9-1dd5-423d-b31b-1b6fe1d57e31",
   "metadata": {},
   "outputs": [],
   "source": [
    "# Number of questions per concept\n",
    "questions_df.groupby(['parent_category_name', 'category_name']).size()"
   ]
  },
  {
   "cell_type": "code",
   "execution_count": null,
   "id": "bc170e2e-8749-4936-b417-9e3c3093a1e3",
   "metadata": {},
   "outputs": [],
   "source": [
    "# Among these, how many provided consent?\n",
    "num_consent = {}\n",
    "\n",
    "for filename, df in csv_dfs.items():\n",
    "    num_consent[filename] = len(df.groupby(['actor']).size())\n",
    "\n",
    "num_consent"
   ]
  }
 ],
 "metadata": {
  "kernelspec": {
   "display_name": "Python 3 (ipykernel)",
   "language": "python",
   "name": "python3"
  },
  "language_info": {
   "codemirror_mode": {
    "name": "ipython",
    "version": 3
   },
   "file_extension": ".py",
   "mimetype": "text/x-python",
   "name": "python",
   "nbconvert_exporter": "python",
   "pygments_lexer": "ipython3",
   "version": "3.9.6"
  }
 },
 "nbformat": 4,
 "nbformat_minor": 5
}
