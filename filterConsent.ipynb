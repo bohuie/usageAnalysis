{
 "cells": [
  {
   "cell_type": "code",
   "execution_count": null,
   "id": "0aafaa8c-03a3-4c38-bb46-b0818ff93d86",
   "metadata": {},
   "outputs": [],
   "source": [
    "import pandas as pd"
   ]
  },
  {
   "cell_type": "code",
   "execution_count": null,
   "id": "00d654f5-b50b-492f-ac91-bb3746f1c7f5",
   "metadata": {},
   "outputs": [],
   "source": [
    "df_consent = pd.read_csv('data/all-consents.csv')\n",
    "df_actions = pd.read_csv('data/Jan2023-actions.csv', low_memory=False)\n",
    "df_page_views = pd.read_csv('data/Jan2023-page_views.csv')"
   ]
  },
  {
   "cell_type": "code",
   "execution_count": null,
   "id": "bef91d67-c434-461c-b320-28d6ac88eb6d",
   "metadata": {},
   "outputs": [],
   "source": [
    "df_actions_filtered = df_actions[(df_actions['object_type'] == \"User\") & (df_actions[\"object_id\"].isin(df_consent[df_consent[\"consent\"] == True][\"user\"]))]\n",
    "df_actions_filtered.head()"
   ]
  },
  {
   "cell_type": "code",
   "execution_count": null,
   "id": "7e17ebc2-57bf-42fd-85cf-4c6f8f022bab",
   "metadata": {},
   "outputs": [],
   "source": [
    "df_page_views_filtered = df_page_views[df_page_views[\"user\"].isin(df_consent[df_consent[\"consent\"] == True][\"user\"])]\n",
    "df_page_views_filtered.head()"
   ]
  }
 ],
 "metadata": {
  "kernelspec": {
   "display_name": "Python 3 (ipykernel)",
   "language": "python",
   "name": "python3"
  },
  "language_info": {
   "codemirror_mode": {
    "name": "ipython",
    "version": 3
   },
   "file_extension": ".py",
   "mimetype": "text/x-python",
   "name": "python",
   "nbconvert_exporter": "python",
   "pygments_lexer": "ipython3",
   "version": "3.9.6"
  }
 },
 "nbformat": 4,
 "nbformat_minor": 5
}
